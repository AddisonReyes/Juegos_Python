{
  "nbformat": 4,
  "nbformat_minor": 0,
  "metadata": {
    "colab": {
      "name": "PPT_game.ipynb",
      "provenance": []
    },
    "kernelspec": {
      "name": "python3",
      "display_name": "Python 3"
    },
    "language_info": {
      "name": "python"
    }
  },
  "cells": [
    {
      "cell_type": "code",
      "execution_count": 23,
      "metadata": {
        "colab": {
          "base_uri": "https://localhost:8080/"
        },
        "id": "Ee6tIA8t8koF",
        "outputId": "62449ab1-3f5e-4c16-d591-3928df4129b3"
      },
      "outputs": [
        {
          "output_type": "stream",
          "name": "stdout",
          "text": [
            "Bienvenid@ al juego!\n",
            "    1 ~ Piedra(🗿)\n",
            "    2 ~ Papel(📜)\n",
            "    3 ~ Tijera(✂️)\n",
            "\n",
            "¿Que deseas jugar? PiEdRa\n",
            "\n",
            "Tu contrario jugó (Papel) y tu jugaste (Piedra).\n",
            "\n",
            "PERDISTE! :C\n"
          ]
        }
      ],
      "source": [
        "# -*- coding: cp1252 -*-\n",
        "import random\n",
        "\n",
        "def empate():\n",
        "    print(\"\\nEMPATE!\")\n",
        "\n",
        "\n",
        "def ganaste():\n",
        "   print(\"\\nGANASTE! :D\")\n",
        "    \n",
        "\n",
        "def perdiste():\n",
        "    print(\"\\nPERDISTE! :C\")\n",
        "    \n",
        "\n",
        "def main():\n",
        "    print(\"\"\"Bienvenid@ al juego!\n",
        "    1 ~ Piedra(🗿)\n",
        "    2 ~ Papel(📜)\n",
        "    3 ~ Tijera(✂️)\"\"\")\n",
        "    \n",
        "    jugadas = ['piedra', 'tijera', 'papel']\n",
        "    jugador = str(input(\"\\n¿Que deseas jugar? \"))\n",
        "    contrario = jugadas[random.randint(0, 2)]\n",
        "    \n",
        "    if jugador == \"1\":\n",
        "      jugador = \"piedra\"\n",
        "    if jugador == \"2\":\n",
        "      jugador = \"papel\"\n",
        "    if jugador == \"3\":\n",
        "      jugador = \"tijera\"\n",
        "    \n",
        "    jugador = jugador.lower()\n",
        "    print(\"\\nTu contrario jugó (\" + contrario.capitalize() + \") y tu jugaste (\" + jugador.capitalize() + \").\")\n",
        "\n",
        "    if jugador == contrario:\n",
        "      empate()\n",
        "    elif jugador == \"tijera\":\n",
        "      if contrario == \"papel\":\n",
        "        ganaste()\n",
        "      else:\n",
        "        perdiste()\n",
        "    elif jugador == \"piedra\":\n",
        "      if contrario == \"tijera\":\n",
        "        ganaste()\n",
        "      else:\n",
        "        perdiste()\n",
        "    elif jugador == \"papel\":\n",
        "      if contrario == \"piedra\":\n",
        "        ganaste()\n",
        "      else:\n",
        "        perdiste()\n",
        "    else:\n",
        "      print(\"\\nERROR: Jugada desconocida...\")\n",
        "    \n",
        "    \n",
        "if __name__ == '__main__':\n",
        "    main()"
      ]
    }
  ]
}